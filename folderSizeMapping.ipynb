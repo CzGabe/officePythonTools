{
 "cells": [
  {
   "cell_type": "code",
   "execution_count": 19,
   "id": "e166cbdd-57ff-482e-8544-e1329e0bc37e",
   "metadata": {},
   "outputs": [],
   "source": [
    "#Based on: https://stackoverflow.com/questions/47298329/get-folder-structure-along-with-folder-file-sizes-in-python\n",
    "\n",
    "import os\n",
    "import csv\n",
    "\n",
    "#def sizeof_fmt(num, suffix='B'):\n",
    "#    for unit in ['','K','M','G','T','P','E','Z']:\n",
    "#        if abs(num) < 1024.0:\n",
    "#            return \"%3.1f%s%s\" % (num, unit, suffix)\n",
    "#        num /= 1024.0\n",
    "#    return \"%.1f%s%s\" % (num, 'Yi', suffix)\n",
    "\n",
    "#gives bank size in GB\n",
    "def get_size(start_path = '.'):\n",
    "    total_size = 0\n",
    "    for dirpath, dirnames, filenames in os.walk(start_path):\n",
    "        for f in filenames:\n",
    "            fp = os.path.join(dirpath, f)\n",
    "            total_size += os.path.getsize(fp)\n",
    "    #return sizeof_fmt(total_size)\n",
    "    return \"{:.2f}\".format(total_size / (2**30))\n",
    "\n",
    "def files_and_sizes(start_path, csv_writer):\n",
    "    dir_list = [file for file in os.listdir(start_path)]\n",
    "    for file in dir_list:\n",
    "        path = start_path + \"\\\\\" + file\n",
    "        if os.path.isdir(path) is True:\n",
    "            #print(path.split('\\\\'))\n",
    "            print([path, get_size(path)]+path.split('\\\\'))\n",
    "            csv_writer.writerow([path, get_size(path)]+path.split('\\\\'))\n",
    "            files_and_sizes(start_path + \"\\\\\" + file, csv_writer)"
   ]
  },
  {
   "cell_type": "code",
   "execution_count": 21,
   "id": "64318309-28a0-4119-8770-3ee02c39451c",
   "metadata": {},
   "outputs": [
    {
     "name": "stdout",
     "output_type": "stream",
     "text": [
      "['./\\\\.ipynb_checkpoints', '0.00', './', '.ipynb_checkpoints']\n",
      "['./\\\\test1', '0.01', './', 'test1']\n",
      "['./\\\\test1\\\\smt1', '0.00', './', 'test1', 'smt1']\n",
      "['./\\\\test1\\\\smth3', '0.00', './', 'test1', 'smth3']\n",
      "['./\\\\test2', '0.02', './', 'test2']\n"
     ]
    }
   ],
   "source": [
    "workPath = r'./'\n",
    "\n",
    "with open('./test.csv', mode='w', newline='', encoding='utf-8') as dir_file:\n",
    "    csv_writer = csv.writer(dir_file, delimiter=',')\n",
    "    csv_writer.writerow(['Full Path', 'Size [GB]', 'root'])\n",
    "    files_and_sizes(workPath, csv_writer)"
   ]
  },
  {
   "cell_type": "code",
   "execution_count": null,
   "id": "c6c16ab3-a836-45c3-8550-5c1f632d2614",
   "metadata": {},
   "outputs": [],
   "source": []
  }
 ],
 "metadata": {
  "kernelspec": {
   "display_name": "Python 3 (ipykernel)",
   "language": "python",
   "name": "python3"
  },
  "language_info": {
   "codemirror_mode": {
    "name": "ipython",
    "version": 3
   },
   "file_extension": ".py",
   "mimetype": "text/x-python",
   "name": "python",
   "nbconvert_exporter": "python",
   "pygments_lexer": "ipython3",
   "version": "3.12.1"
  }
 },
 "nbformat": 4,
 "nbformat_minor": 5
}
